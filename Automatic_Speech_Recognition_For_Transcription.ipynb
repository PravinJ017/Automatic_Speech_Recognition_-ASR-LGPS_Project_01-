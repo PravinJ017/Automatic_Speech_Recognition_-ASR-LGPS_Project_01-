{
  "cells": [
    {
      "cell_type": "markdown",
      "metadata": {
        "id": "rn18oKY89G3B"
      },
      "source": [
        "### **Develop a system to transcribe speech from audio or video recordings into text. Python, Speech Recognition libraries. Web application or desktop software for uploading audio/video and displaying transcripts.**"
      ]
    },
    {
      "cell_type": "markdown",
      "source": [
        "### **Installing Required Packages and Dependencies**\n",
        "- `!pip install Flask ngrok pyngrok SpeechRecognition pydub`: This command installs the Python packages Flask (a micro web framework), ngrok and pyngrok (for tunneling localhost to the internet), SpeechRecognition (for converting speech to text), and pydub (for audio processing).\n",
        "- `!apt-get install ffmpeg`: This command installs ffmpeg, a tool for handling multimedia data, which is required by pydub to handle various audio formats."
      ],
      "metadata": {
        "id": "UQuooGP-tpjb"
      }
    },
    {
      "cell_type": "code",
      "execution_count": 1,
      "metadata": {
        "colab": {
          "base_uri": "https://localhost:8080/"
        },
        "id": "JA4t00yg72t8",
        "outputId": "530a57ad-9431-47e2-e431-ad0743bea750"
      },
      "outputs": [
        {
          "output_type": "stream",
          "name": "stdout",
          "text": [
            "Requirement already satisfied: Flask in /usr/local/lib/python3.10/dist-packages (2.2.5)\n",
            "Collecting ngrok\n",
            "  Downloading ngrok-1.3.0-cp37-abi3-manylinux_2_17_x86_64.manylinux2014_x86_64.whl (2.9 MB)\n",
            "\u001b[2K     \u001b[90m━━━━━━━━━━━━━━━━━━━━━━━━━━━━━━━━━━━━━━━━\u001b[0m \u001b[32m2.9/2.9 MB\u001b[0m \u001b[31m10.0 MB/s\u001b[0m eta \u001b[36m0:00:00\u001b[0m\n",
            "\u001b[?25hCollecting pyngrok\n",
            "  Downloading pyngrok-7.1.6-py3-none-any.whl (22 kB)\n",
            "Collecting SpeechRecognition\n",
            "  Downloading SpeechRecognition-3.10.4-py2.py3-none-any.whl (32.8 MB)\n",
            "\u001b[2K     \u001b[90m━━━━━━━━━━━━━━━━━━━━━━━━━━━━━━━━━━━━━━━━\u001b[0m \u001b[32m32.8/32.8 MB\u001b[0m \u001b[31m29.0 MB/s\u001b[0m eta \u001b[36m0:00:00\u001b[0m\n",
            "\u001b[?25hCollecting pydub\n",
            "  Downloading pydub-0.25.1-py2.py3-none-any.whl (32 kB)\n",
            "Requirement already satisfied: Werkzeug>=2.2.2 in /usr/local/lib/python3.10/dist-packages (from Flask) (3.0.3)\n",
            "Requirement already satisfied: Jinja2>=3.0 in /usr/local/lib/python3.10/dist-packages (from Flask) (3.1.4)\n",
            "Requirement already satisfied: itsdangerous>=2.0 in /usr/local/lib/python3.10/dist-packages (from Flask) (2.2.0)\n",
            "Requirement already satisfied: click>=8.0 in /usr/local/lib/python3.10/dist-packages (from Flask) (8.1.7)\n",
            "Requirement already satisfied: PyYAML>=5.1 in /usr/local/lib/python3.10/dist-packages (from pyngrok) (6.0.1)\n",
            "Requirement already satisfied: requests>=2.26.0 in /usr/local/lib/python3.10/dist-packages (from SpeechRecognition) (2.31.0)\n",
            "Requirement already satisfied: typing-extensions in /usr/local/lib/python3.10/dist-packages (from SpeechRecognition) (4.12.1)\n",
            "Requirement already satisfied: MarkupSafe>=2.0 in /usr/local/lib/python3.10/dist-packages (from Jinja2>=3.0->Flask) (2.1.5)\n",
            "Requirement already satisfied: charset-normalizer<4,>=2 in /usr/local/lib/python3.10/dist-packages (from requests>=2.26.0->SpeechRecognition) (3.3.2)\n",
            "Requirement already satisfied: idna<4,>=2.5 in /usr/local/lib/python3.10/dist-packages (from requests>=2.26.0->SpeechRecognition) (3.7)\n",
            "Requirement already satisfied: urllib3<3,>=1.21.1 in /usr/local/lib/python3.10/dist-packages (from requests>=2.26.0->SpeechRecognition) (2.0.7)\n",
            "Requirement already satisfied: certifi>=2017.4.17 in /usr/local/lib/python3.10/dist-packages (from requests>=2.26.0->SpeechRecognition) (2024.6.2)\n",
            "Installing collected packages: pydub, pyngrok, ngrok, SpeechRecognition\n",
            "Successfully installed SpeechRecognition-3.10.4 ngrok-1.3.0 pydub-0.25.1 pyngrok-7.1.6\n",
            "Reading package lists... Done\n",
            "Building dependency tree... Done\n",
            "Reading state information... Done\n",
            "ffmpeg is already the newest version (7:4.4.2-0ubuntu0.22.04.1).\n",
            "0 upgraded, 0 newly installed, 0 to remove and 45 not upgraded.\n"
          ]
        }
      ],
      "source": [
        "!pip install Flask ngrok pyngrok SpeechRecognition pydub\n",
        "\n",
        "!apt-get install ffmpeg\n"
      ]
    },
    {
      "cell_type": "markdown",
      "source": [
        "### **Setting Up Ngrok for Localhost Tunneling**\n",
        "\n",
        "- `from pyngrok import ngrok`: Imports the ngrok module which allows you to create a secure tunnel to your localhost application.\n",
        "- `!ngrok authtoken YOUR_AUTHTOKEN_HERE`: Authenticates ngrok with your personal authtoken.\n",
        "\n",
        "### **How to Get Your ngrok Authtoken**\n",
        "\n",
        "1. **Sign Up/Log In**: Go to the [ngrok website](https://ngrok.com/) and sign up for an account or log in if you already have one.\n",
        "2. **Get Your Authtoken**: Once logged in, navigate to the \"Dashboard\" where you will find your authtoken.\n",
        "3. **Copy and Use**: Copy your authtoken and replace `YOUR_AUTHTOKEN_HERE` with your actual authtoken in the command.\n",
        "\n",
        "By doing this, you allow ngrok to authenticate your session and create a tunnel for your Flask application."
      ],
      "metadata": {
        "id": "ijbvKCjBuC5U"
      }
    },
    {
      "cell_type": "code",
      "source": [
        "from pyngrok import ngrok\n",
        "\n",
        "!ngrok authtoken 2hSOJxFbbrvh1BU7fdL4GXx0Xzc_291QMr3CnxUTrN37LbGEt\n"
      ],
      "metadata": {
        "colab": {
          "base_uri": "https://localhost:8080/"
        },
        "id": "hzu6vRP7jLET",
        "outputId": "f087bce9-efaa-453c-cb5f-c1adb9c27321"
      },
      "execution_count": 2,
      "outputs": [
        {
          "output_type": "stream",
          "name": "stdout",
          "text": [
            "Authtoken saved to configuration file: /root/.config/ngrok/ngrok.yml\n"
          ]
        }
      ]
    },
    {
      "cell_type": "markdown",
      "source": [
        "### **Importing the Libraries**\n",
        "\n",
        "- `from flask import Flask, request, render_template_string, redirect, g`: Imports Flask and various utilities from the Flask library for creating a web application, handling HTTP requests, rendering templates directly from strings, handling redirects, and using application context.\n",
        "- `import speech_recognition as sr`: Imports the SpeechRecognition library, which provides functionalities to recognize speech from audio files and convert it into text.\n",
        "- `import pydub import AudioSegment`: Imports the AudioSegment class from the pydub library, which is used to manipulate audio files, including conversion between different formats.\n",
        "- `import moviepy.editor as mp`: Imports the moviepy library's editor module, allowing for handling and processing video files.\n",
        "- `import os`: Imports the os module, which provides functions for interacting with the operating system, such as file handling.\n",
        "- `from pyngrok import ngrok`: Imports the ngrok module to create secure tunnels to localhost, exposing the Flask app to the internet.\n",
        "- `import sqlite3`: Imports the sqlite3 module for interacting with SQLite databases, which is used to store and manage transcription data in this application.\n",
        "\n",
        "These libraries collectively provide the necessary functionalities for building the Flask web application, handling audio and video files, performing speech recognition, exposing the app via ngrok, and managing a SQLite database."
      ],
      "metadata": {
        "id": "AvwAVLWkublN"
      }
    },
    {
      "cell_type": "code",
      "source": [
        "from flask import Flask, request, render_template_string, redirect, g\n",
        "import speech_recognition as sr\n",
        "from pydub import AudioSegment\n",
        "import moviepy.editor as mp\n",
        "import os\n",
        "from pyngrok import ngrok\n",
        "import sqlite3\n"
      ],
      "metadata": {
        "id": "uzLyZBiTj0Kf"
      },
      "execution_count": 3,
      "outputs": []
    },
    {
      "cell_type": "markdown",
      "source": [
        "### **Setting Up the Flask Application and Upload Folder**\n",
        "\n",
        "\n",
        "\n",
        "- `app = Flask(__name__)`: Initializes the Flask application.\n",
        "- `app.config['UPLOAD_FOLDER'] = 'uploads'`: Configures the folder where uploaded files will be stored.\n",
        "- `if not os.path.exists(app.config['UPLOAD_FOLDER']): os.makedirs(app.config['UPLOAD_FOLDER'])`: Checks if the upload folder exists; if not, it creates the folder. This ensures that the directory for storing uploaded files is always available."
      ],
      "metadata": {
        "id": "-TvZtzQMu1WE"
      }
    },
    {
      "cell_type": "code",
      "source": [
        "app = Flask(__name__)\n",
        "app.config['UPLOAD_FOLDER'] = 'uploads'\n",
        "if not os.path.exists(app.config['UPLOAD_FOLDER']):\n",
        "    os.makedirs(app.config['UPLOAD_FOLDER'])"
      ],
      "metadata": {
        "id": "5zhvc9Z0j0M3"
      },
      "execution_count": 4,
      "outputs": []
    },
    {
      "cell_type": "markdown",
      "source": [
        "### **Initializing the Database**\n",
        "\n",
        "\n",
        "- `conn = sqlite3.connect('transcripts.db')`: Connects to the SQLite database named `transcripts.db`.\n",
        "- `cursor = conn.cursor()`: Creates a cursor object to execute SQL commands.\n",
        "- `cursor.execute(...)`: Executes an SQL command to create a table named `transcripts` with columns `id`, `video_name`, and `transcript`, if it doesn't already exist.\n",
        "- `conn.commit()`: Commits the changes to the database.\n",
        "- `conn.close()`: Closes the connection to the database."
      ],
      "metadata": {
        "id": "1IrxSaxPu-0A"
      }
    },
    {
      "cell_type": "code",
      "source": [
        "def init_db():\n",
        "    conn = sqlite3.connect('transcripts.db')\n",
        "    cursor = conn.cursor()\n",
        "    cursor.execute('''\n",
        "        CREATE TABLE IF NOT EXISTS transcripts (\n",
        "            id INTEGER PRIMARY KEY AUTOINCREMENT,\n",
        "            video_name TEXT,\n",
        "            transcript TEXT\n",
        "        )\n",
        "    ''')\n",
        "    conn.commit()\n",
        "    conn.close()"
      ],
      "metadata": {
        "id": "u3TgcuLPj0PP"
      },
      "execution_count": 5,
      "outputs": []
    },
    {
      "cell_type": "markdown",
      "source": [
        "### **Database Connection Setup**\n",
        "\n",
        "\n",
        "\n",
        "This function is responsible for establishing a connection to the SQLite database named 'transcripts.db'. If the connection object does not already exist in the global context (i.e., `g`), it creates a new connection. It then returns the connection object for database operations."
      ],
      "metadata": {
        "id": "4KLxVf9JvnFB"
      }
    },
    {
      "cell_type": "code",
      "source": [
        "def get_db():\n",
        "    if 'db' not in g:\n",
        "        g.db = sqlite3.connect('transcripts.db')\n",
        "    return g.db"
      ],
      "metadata": {
        "id": "DAqTTRW_j6pi"
      },
      "execution_count": 6,
      "outputs": []
    },
    {
      "cell_type": "markdown",
      "source": [
        "### **Audio Transcription**\n",
        "\n",
        "\n",
        "This function transcribes audio files into text using the SpeechRecognition library. It first loads the audio file, splits it into 5-minute segments, and then transcribes each segment. The transcript is concatenated from the transcribed segments."
      ],
      "metadata": {
        "id": "UEPxZu3XvvON"
      }
    },
    {
      "cell_type": "code",
      "source": [
        "def transcribe_audio(file_path):\n",
        "    recognizer = sr.Recognizer()\n",
        "\n",
        "    if file_path.endswith(\".mp3\"):\n",
        "        audio = AudioSegment.from_mp3(file_path)\n",
        "    elif file_path.endswith((\".mp4\", \".mov\", \".avi\", \".mkv\")):\n",
        "        video = mp.VideoFileClip(file_path)\n",
        "        audio = video.audio\n",
        "\n",
        "    # Split the audio into 5-minute segments\n",
        "    segment_length_ms = 600000\n",
        "    segments = [audio[i:i+segment_length_ms] for i in range(0, len(audio), segment_length_ms)]\n",
        "\n",
        "    transcript = \"\"\n",
        "    for i, segment in enumerate(segments):\n",
        "        segment.export(\"segment{}.wav\".format(i), format=\"wav\")\n",
        "        with sr.AudioFile(\"segment{}.wav\".format(i)) as source:\n",
        "            audio_text = recognizer.listen(source)\n",
        "\n",
        "        try:\n",
        "            segment_text = recognizer.recognize_google(audio_text)\n",
        "            transcript += segment_text + \" \"\n",
        "        except sr.UnknownValueError:\n",
        "            transcript += \" [Unknown] \"\n",
        "        except sr.RequestError:\n",
        "            transcript += \" [Error] \"\n",
        "\n",
        "        # Clean up temporary segment file\n",
        "        os.remove(\"segment{}.wav\".format(i))\n",
        "\n",
        "    return transcript"
      ],
      "metadata": {
        "id": "p5KtiNVYj0Rz"
      },
      "execution_count": 7,
      "outputs": []
    },
    {
      "cell_type": "markdown",
      "source": [
        "### **Close Database Connection**\n",
        "\n",
        "\n",
        "This function is a Flask decorator that closes the database connection at the end of each request. It retrieves the database connection object from the Flask global object (`g`) and closes it if it exists."
      ],
      "metadata": {
        "id": "ay-WT9F9v11H"
      }
    },
    {
      "cell_type": "code",
      "source": [
        "@app.teardown_appcontext\n",
        "def close_connection(exception=None):\n",
        "    db = getattr(g, '_database', None)\n",
        "    if db is not None:\n",
        "        db.close()"
      ],
      "metadata": {
        "id": "LKQZMVIekCRX"
      },
      "execution_count": 8,
      "outputs": []
    },
    {
      "cell_type": "markdown",
      "source": [
        "### **Index Route**\n",
        "\n",
        "\n",
        "This route handles both GET and POST requests. For POST requests, it checks if a file is uploaded, saves it, transcribes it, saves the transcript to the database, and removes the file. Then, it renders the HTML template with the transcript."
      ],
      "metadata": {
        "id": "fczn__drv6PK"
      }
    },
    {
      "cell_type": "code",
      "source": [
        "@app.route('/', methods=['GET', 'POST'])\n",
        "def index():\n",
        "    transcript = \"\"\n",
        "    if request.method == 'POST':\n",
        "        if 'file' not in request.files:\n",
        "            return redirect(request.url)\n",
        "        file = request.files['file']\n",
        "        if file.filename == '':\n",
        "            return redirect(request.url)\n",
        "        if file:\n",
        "            file_path = os.path.join(app.config['UPLOAD_FOLDER'], file.filename)\n",
        "            file.save(file_path)\n",
        "            transcript = transcribe_audio(file_path)\n",
        "            save_transcript(file.filename, transcript)  # Save transcript to database\n",
        "            os.remove(file_path)\n",
        "    return render_template_string(\"\"\"\n",
        "<!DOCTYPE html>\n",
        "<html lang=\"en\">\n",
        "<head>\n",
        "    <meta charset=\"UTF-8\">\n",
        "    <meta name=\"viewport\" content=\"width=device-width, initial-scale=1.0\">\n",
        "    <title>ASR Transcription</title>\n",
        "    <style>\n",
        "        body {\n",
        "            font-family: 'Segoe UI', Tahoma, Geneva, Verdana, sans-serif;\n",
        "            margin: 0;\n",
        "            padding: 0;\n",
        "            background-color:#BFA4DB; /* Bright yellow background */\n",
        "        }\n",
        "        .container {\n",
        "            max-width: 800px;\n",
        "            margin: 50px auto;\n",
        "            padding: 20px;\n",
        "            background-color: #fff;\n",
        "            border-radius: 10px;\n",
        "            box-shadow: 0 0 20px rgba(0, 0, 0, 0.1);\n",
        "            transition: all 0.3s ease; /* Smooth transition for hover effect */\n",
        "        }\n",
        "        .container:hover {\n",
        "            transform: scale(1.05); /* Increase size on hover */\n",
        "        }\n",
        "        h1 {\n",
        "            color: #2E0049;\n",
        "            text-align: center;\n",
        "            margin-bottom: 20px;\n",
        "        }\n",
        "        form {\n",
        "            margin-top: 20px;\n",
        "            text-align: center;\n",
        "        }\n",
        "        input[type=\"file\"] {\n",
        "            display: block;\n",
        "            margin: 0 auto;\n",
        "            margin-bottom: 10px;\n",
        "            padding: 10px;\n",
        "            border: 2px solid #4B0082; /* Green border */\n",
        "            border-radius: 5px;\n",
        "            background-color: #fff;\n",
        "            color: #4B0082;\n",
        "            font-size: 16px;\n",
        "            cursor: pointer;\n",
        "            transition: all 0.3s ease;\n",
        "        }\n",
        "        input[type=\"file\"]:hover {\n",
        "           /* Darker green on hover */\n",
        "            color: #4B0082;\n",
        "        }\n",
        "        input[type=\"submit\"] {\n",
        "            background-color: #4B0082; /* Blue background */\n",
        "            color: #fff;\n",
        "            border: none;\n",
        "            padding: 10px 20px;\n",
        "            cursor: pointer;\n",
        "            font-size: 16px;\n",
        "            border-radius: 5px;\n",
        "            transition: all 0.3s ease;\n",
        "        }\n",
        "        input[type=\"submit\"]:hover {\n",
        "            background-color: #2E0049; /* Darker blue on hover */\n",
        "        }\n",
        "        .transcription {\n",
        "            margin-top: 30px;\n",
        "            padding: 20px;\n",
        "            background-color: #F2E6FF; /* Light yellow background */\n",
        "            border-radius: 10px;\n",
        "            box-shadow: 0 0 10px rgba(0, 0, 0, 0.1);\n",
        "        }\n",
        "        .transcription h2 {\n",
        "            margin-bottom: 20px;\n",
        "            color: #2E0049;\n",
        "            font-size: 24px;\n",
        "            text-align: center;\n",
        "        }\n",
        "        .transcription p {\n",
        "            color: F8F3FF;\n",
        "            font-size: 18px;\n",
        "            line-height: 1.6;\n",
        "            text-align: justify;\n",
        "        }\n",
        "    </style>\n",
        "</head>\n",
        "<body>\n",
        "    <div class=\"container\">\n",
        "        <h1>Upload Audio/Video File for Transcription</h1>\n",
        "        <form method=\"POST\" enctype=\"multipart/form-data\">\n",
        "            <input type=\"file\" name=\"file\" accept=\"audio/*,video/*\">\n",
        "            <input type=\"submit\" value=\"Upload\">\n",
        "        </form>\n",
        "        {% if transcript %}\n",
        "            <div class=\"transcription\">\n",
        "                <h2>Transcript</h2>\n",
        "                <p>{{ transcript }}</p>\n",
        "            </div>\n",
        "        {% endif %}\n",
        "    </div>\n",
        "</body>\n",
        "</html>\n",
        "    \"\"\", transcript=transcript)"
      ],
      "metadata": {
        "id": "EsX_5RVBkCT5"
      },
      "execution_count": 9,
      "outputs": []
    },
    {
      "cell_type": "markdown",
      "source": [
        "### **Saving Transcript to Database**\n",
        "This function saves the transcript of a video to the database. It takes two parameters: `video_name`, which is the name of the video, and `transcript`, which is the transcript of the video. The function connects to the database, inserts the video name and transcript into the `transcripts` table, and then commits the changes. Finally, it closes the database connection."
      ],
      "metadata": {
        "id": "9WpoTio7wIK9"
      }
    },
    {
      "cell_type": "code",
      "source": [
        "def save_transcript(video_name, transcript):\n",
        "    db = get_db()\n",
        "    cursor = db.cursor()\n",
        "    cursor.execute(\"INSERT INTO transcripts (video_name, transcript) VALUES (?, ?)\", (video_name, transcript))\n",
        "    db.commit()\n",
        "    cursor.close()"
      ],
      "metadata": {
        "id": "_3Fs3QCckCWn"
      },
      "execution_count": 10,
      "outputs": []
    },
    {
      "cell_type": "markdown",
      "source": [
        "### **Initializing the Database**\n",
        "This function initializes the database by creating the necessary table if it does not already exist. It connects to the SQLite database named `transcripts.db`, creates a table named `transcripts` with columns for `id` (primary key), `video_name`, and `transcript`. If the table already exists, it does nothing. Finally, it commits the changes and closes the database connection."
      ],
      "metadata": {
        "id": "gFmnKPMwwdtg"
      }
    },
    {
      "cell_type": "code",
      "source": [
        "# Initialize the database\n",
        "init_db()"
      ],
      "metadata": {
        "id": "3s5IwkobkNQ_"
      },
      "execution_count": 11,
      "outputs": []
    },
    {
      "cell_type": "markdown",
      "source": [
        "### **Running the Flask App with ngrok Tunneling**\n",
        "This code block sets up a public URL for the Flask app using ngrok, which allows accessing the local server from the internet. It connects to port 5000 where the Flask app is running, creates a tunnel, and generates a public URL. Finally, it prints the ngrok tunneling information, including the mapping from the local address to the public URL, and starts the Flask app."
      ],
      "metadata": {
        "id": "yGGGFc-Cwmba"
      }
    },
    {
      "cell_type": "code",
      "source": [
        "# Run the Flask app and expose it using ngrok\n",
        "public_url = ngrok.connect(5000).public_url\n",
        "print(f' * ngrok tunnel \"http://127.0.0.1:5000\" -> \"{public_url}\"')\n",
        "app.run()\n"
      ],
      "metadata": {
        "colab": {
          "base_uri": "https://localhost:8080/"
        },
        "id": "fYcFmB2jkNTm",
        "outputId": "5d19252a-ac18-481a-940f-d2d0e50d73b1"
      },
      "execution_count": 17,
      "outputs": [
        {
          "output_type": "stream",
          "name": "stdout",
          "text": [
            " * ngrok tunnel \"http://127.0.0.1:5000\" -> \"https://7c28-104-154-234-118.ngrok-free.app\"\n",
            " * Serving Flask app '__main__'\n",
            " * Debug mode: off\n"
          ]
        },
        {
          "output_type": "stream",
          "name": "stderr",
          "text": [
            "INFO:werkzeug:\u001b[31m\u001b[1mWARNING: This is a development server. Do not use it in a production deployment. Use a production WSGI server instead.\u001b[0m\n",
            " * Running on http://127.0.0.1:5000\n",
            "INFO:werkzeug:\u001b[33mPress CTRL+C to quit\u001b[0m\n",
            "INFO:werkzeug:127.0.0.1 - - [09/Jun/2024 06:56:13] \"GET / HTTP/1.1\" 200 -\n",
            "INFO:werkzeug:127.0.0.1 - - [09/Jun/2024 06:56:14] \"\u001b[33mGET /favicon.ico HTTP/1.1\u001b[0m\" 404 -\n",
            "INFO:werkzeug:127.0.0.1 - - [09/Jun/2024 06:57:11] \"POST / HTTP/1.1\" 200 -\n",
            "INFO:werkzeug:127.0.0.1 - - [09/Jun/2024 06:57:31] \"GET / HTTP/1.1\" 200 -\n",
            "INFO:werkzeug:127.0.0.1 - - [09/Jun/2024 06:58:52] \"POST / HTTP/1.1\" 200 -\n",
            "INFO:werkzeug:127.0.0.1 - - [09/Jun/2024 06:59:32] \"POST / HTTP/1.1\" 200 -\n",
            "INFO:werkzeug:127.0.0.1 - - [09/Jun/2024 07:00:05] \"POST / HTTP/1.1\" 200 -\n",
            "INFO:werkzeug:127.0.0.1 - - [09/Jun/2024 07:00:37] \"POST / HTTP/1.1\" 200 -\n",
            "INFO:werkzeug:127.0.0.1 - - [09/Jun/2024 07:01:40] \"\u001b[31m\u001b[1mPOST / HTTP/1.1\u001b[0m\" 400 -\n",
            "INFO:werkzeug:127.0.0.1 - - [09/Jun/2024 07:01:50] \"\u001b[31m\u001b[1mPOST / HTTP/1.1\u001b[0m\" 400 -\n",
            "INFO:werkzeug:127.0.0.1 - - [09/Jun/2024 07:01:56] \"POST / HTTP/1.1\" 200 -\n"
          ]
        }
      ]
    },
    {
      "cell_type": "markdown",
      "source": [
        "### **Retrieving and Displaying Transcripts from Database**\n",
        "\n",
        "This code block defines functions to retrieve transcripts from the SQLite database and display them. The `get_transcripts()` function connects to the database, executes a SELECT query to fetch all transcripts, and returns the result as a list of tuples. The `display_transcripts()` function takes the list of transcripts as input and iterates over each transcript to print its ID, video name, and transcript text. Finally, when the script is run directly, it retrieves transcripts from the database and displays them."
      ],
      "metadata": {
        "id": "Yx3sG82dw1fe"
      }
    },
    {
      "cell_type": "code",
      "source": [
        "import sqlite3\n",
        "\n",
        "def get_transcripts():\n",
        "    conn = sqlite3.connect('transcripts.db')\n",
        "    cursor = conn.cursor()\n",
        "\n",
        "    cursor.execute(\"SELECT id, video_name, transcript FROM transcripts\")\n",
        "    rows = cursor.fetchall()\n",
        "\n",
        "    conn.close()\n",
        "    return rows\n",
        "\n",
        "def display_transcripts(transcripts):\n",
        "    for transcript in transcripts:\n",
        "        print(f\"ID: {transcript[0]}\")\n",
        "        print(f\"Video Name: {transcript[1]}\")\n",
        "        print(f\"Transcript: {transcript[2]}\")\n",
        "        print(\"-\" * 20)\n",
        "\n",
        "if __name__ == \"__main__\":\n",
        "    transcripts = get_transcripts()\n",
        "    display_transcripts(transcripts)\n"
      ],
      "metadata": {
        "colab": {
          "base_uri": "https://localhost:8080/"
        },
        "id": "cdSM01B0l9Fs",
        "outputId": "3e9fe7d4-d0ae-4f06-b85e-4079e037b48d"
      },
      "execution_count": 18,
      "outputs": [
        {
          "output_type": "stream",
          "name": "stdout",
          "text": [
            "ID: 2\n",
            "Video Name: Audio_05.mp3\n",
            "Transcript: the value of diversity diversity is our strength and reaching our communities and broadening our perspectives it posters creativity Innovation and empathy by bringing together people from different backgrounds and experiences in a diverse environment we learn from one another difference and build more inclusive Society embracing diversity means recognizing the value of every individual and promoting equity and inclusion let's Challenge and break down barriers and create species where everyone feels value and respected by valuing diversity of the way for a richer more vibrant and harmonious world thank you \n",
            "--------------------\n",
            "ID: 3\n",
            "Video Name: Audio_01.mp3\n",
            "Transcript: trees are amazing plant that grows all around us they are tall strong and provide us with so many benefits let's explore why trees are so important trees gives us are we breathe to take in carbon dioxide a gas we don't need internet into oxygen trees provide homes for many animals trees gives us shade on hot days please help to prevent soil erosion trees are beautiful to look at trees are essential for our planet and for us \n",
            "--------------------\n",
            "ID: 4\n",
            "Video Name: Audio_04.mp3\n",
            "Transcript: the power of technology technology has resolution our world connecting us in ways we never imagine it has transformed Industries improved health care and enhanced our daily lives for smartphones to artificial intelligence technological advancement continue to see for future however with great power comes great responsibility we must use technology ethically ensuring it benefits socially and protects are privacy Innovation should be inclusive bridging gaps and empowering everyone let's Embrace technology as a Force for good driving progress and improving life while being mindful of its potential impacts together we can harness the power of technology to create a better world thank you \n",
            "--------------------\n",
            "ID: 5\n",
            "Video Name: Audio_02.mp3\n",
            "Transcript: the importance of education education is the Cornerstone of our society a fundamental right that empowers individual and transforms communities by investing in education we invest in our future ensuring more informed Equitable and prosperous Society it is not just about academics but about shaping responsible and engaged citizens let's Champion education for all as it is the key to solving many of the world challenges remember with education we illuminate the path to a better tomorrow thank you \n",
            "--------------------\n",
            "ID: 6\n",
            "Video Name: Audio_03.mp3\n",
            "Transcript: climate change and our responsibility climate change is an urgent crisis that affects every corner of our planet Rising temperatures melting ice caps and extreme weather events are clear indicators of this growing threat are actions today with determine the future of our planet we must reduce carbon emissions Embrace renewable energy and promote sustainable practices every individual Can Make a Difference by conserving energy reducing waste and advocating for environmental policies together we can combine climate change and protect our planet for future generation let's act now to preserve the natural world and ensure a sustainable future for all thank you \n",
            "--------------------\n",
            "ID: 7\n",
            "Video Name: Video_02.mp3\n",
            "Transcript: wow what an audience but if I'm being honest I don't care what you think of my talk \n",
            "--------------------\n"
          ]
        }
      ]
    },
    {
      "cell_type": "markdown",
      "source": [
        "### **Exporting Transcripts to CSV File**\n",
        "\n",
        "This code block defines a function `export_transcripts_to_csv()` that exports transcripts from the SQLite database to a CSV file named `transcripts.csv`. The function first connects to the database and executes a SELECT query to retrieve all data from the `transcripts` table. It then retrieves the column names from the table and writes both the column headers and data rows to the CSV file using the `csv` module. Finally, the function prints a success message after the export process completes. When the script is run directly, it exports transcripts to the CSV file."
      ],
      "metadata": {
        "id": "0jWcqewCw7lD"
      }
    },
    {
      "cell_type": "code",
      "source": [
        "import sqlite3\n",
        "import csv\n",
        "\n",
        "def export_transcripts_to_csv():\n",
        "    conn = sqlite3.connect('transcripts.db')\n",
        "    cursor = conn.cursor()\n",
        "\n",
        "    try:\n",
        "        # Execute a SELECT statement to retrieve all data from the transcripts table\n",
        "        cursor.execute(\"SELECT * FROM transcripts\")\n",
        "        rows = cursor.fetchall()\n",
        "\n",
        "        # Get the column names from the table\n",
        "        column_names = [description[0] for description in cursor.description]\n",
        "\n",
        "        # Write the data to a CSV file\n",
        "        with open('transcripts.csv', 'w', newline='', encoding='utf-8') as csv_file:\n",
        "            csv_writer = csv.writer(csv_file)\n",
        "\n",
        "            # Write the column headers\n",
        "            csv_writer.writerow(column_names)\n",
        "\n",
        "            # Write the data rows\n",
        "            csv_writer.writerows(rows)\n",
        "\n",
        "        print(\"Data has been successfully exported to transcripts.csv\")\n",
        "    except sqlite3.Error as e:\n",
        "        print(f\"An error occurred: {e}\")\n",
        "    finally:\n",
        "        conn.close()\n",
        "\n",
        "if __name__ == \"__main__\":\n",
        "    export_transcripts_to_csv()\n"
      ],
      "metadata": {
        "colab": {
          "base_uri": "https://localhost:8080/"
        },
        "id": "4F_gJlmMn1i8",
        "outputId": "d9afbb0d-d98f-475b-ed94-f96b2f0b633a"
      },
      "execution_count": 19,
      "outputs": [
        {
          "output_type": "stream",
          "name": "stdout",
          "text": [
            "Data has been successfully exported to transcripts.csv\n"
          ]
        }
      ]
    },
    {
      "cell_type": "markdown",
      "source": [
        "### **Emptying Transcripts Table**\n",
        "\n",
        "This code block defines a function `empty_transcripts_table()` that empties the `transcripts` table in the SQLite database by executing a DELETE statement to remove all rows. It first connects to the database, executes the DELETE statement, commits the changes, and then prints a message indicating the successful deletion of all records. When the script is run directly, it empties the transcripts table."
      ],
      "metadata": {
        "id": "y0MPkJM8xAHI"
      }
    },
    {
      "cell_type": "code",
      "source": [
        "import sqlite3\n",
        "\n",
        "def empty_transcripts_table():\n",
        "    conn = sqlite3.connect('transcripts.db')\n",
        "    cursor = conn.cursor()\n",
        "\n",
        "    try:\n",
        "        # Execute the DELETE statement to remove all rows from the table\n",
        "        cursor.execute(\"DELETE FROM transcripts\")\n",
        "        conn.commit()\n",
        "        print(\"All records have been deleted from the transcripts table.\")\n",
        "    except sqlite3.Error as e:\n",
        "        print(f\"An error occurred: {e}\")\n",
        "    finally:\n",
        "        conn.close()\n",
        "\n",
        "if __name__ == \"__main__\":\n",
        "    empty_transcripts_table()\n"
      ],
      "metadata": {
        "id": "4ixYWEpUmB8N"
      },
      "execution_count": null,
      "outputs": []
    }
  ],
  "metadata": {
    "accelerator": "GPU",
    "colab": {
      "gpuType": "T4",
      "provenance": []
    },
    "kernelspec": {
      "display_name": "Python 3",
      "name": "python3"
    },
    "language_info": {
      "name": "python"
    }
  },
  "nbformat": 4,
  "nbformat_minor": 0
}